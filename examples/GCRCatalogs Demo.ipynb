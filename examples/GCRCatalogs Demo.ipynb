{
 "cells": [
  {
   "cell_type": "markdown",
   "metadata": {},
   "source": [
    "# How to use GCRCatalogs\n",
    "\n",
    "by Yao-Yuan Mao\n",
    "\n",
    "Links to GitHub code repos: [GCRCatalogs](https://github.com/LSSTDESC/gcr-catalogs) and [GCR](https://github.com/yymao/generic-catalog-reader)\n",
    "\n",
    "**Note: You should be running this notebook at https://jupyter-dev.nersc.gov **"
   ]
  },
  {
   "cell_type": "code",
   "execution_count": 1,
   "metadata": {},
   "outputs": [],
   "source": [
    "import sys\n",
    "sys.path.insert(0, '..')"
   ]
  },
  {
   "cell_type": "markdown",
   "metadata": {},
   "source": [
    "## The basics:\n",
    "\n",
    "- `get_available_catalogs()` lists available catlaogs; returns `dict`.\n",
    "- `load_catalog()` loads the catalog you want; returns an instance of `GCR.BaseGenericCatalog`"
   ]
  },
  {
   "cell_type": "code",
   "execution_count": 2,
   "metadata": {},
   "outputs": [
    {
     "name": "stdout",
     "output_type": "stream",
     "text": [
      "GCRCatalogs = 0.6.6 | GCR = 0.6.2\n"
     ]
    }
   ],
   "source": [
    "import GCRCatalogs\n",
    "\n",
    "## check version\n",
    "print('GCRCatalogs =', GCRCatalogs.__version__, '|' ,'GCR =', GCRCatalogs.GCR.__version__)"
   ]
  },
  {
   "cell_type": "code",
   "execution_count": 3,
   "metadata": {},
   "outputs": [
    {
     "name": "stdout",
     "output_type": "stream",
     "text": [
      "buzzard\n",
      "buzzard_high-res\n",
      "buzzard_test\n",
      "ezmock_elg\n",
      "ezmock_lrg\n",
      "mxxl_bgs\n"
     ]
    }
   ],
   "source": [
    "## list all find available catlaogs, sorted by their name\n",
    "\n",
    "print('\\n'.join(sorted(GCRCatalogs.get_available_catalogs())))"
   ]
  },
  {
   "cell_type": "code",
   "execution_count": 4,
   "metadata": {},
   "outputs": [],
   "source": [
    "## load 'buzzard_test' catalog\n",
    "\n",
    "gc = GCRCatalogs.load_catalog('buzzard_test')"
   ]
  },
  {
   "cell_type": "markdown",
   "metadata": {},
   "source": [
    "## GCR interface\n",
    "\n",
    "See also the [full GCR API Documentation](https://yymao.github.io/generic-catalog-reader/index.html)."
   ]
  },
  {
   "cell_type": "markdown",
   "metadata": {},
   "source": [
    "### quantities\n",
    "\n",
    "- `get_quantities()` loads the quantities you need; takes a `list` and returns `dict`.\n",
    "- `has_quantity()` and `has_quantities()` can check if the quantities you need exist; both return `bool`.\n",
    "- `list_all_quantities()` lists all available catlaogs; returns `list`."
   ]
  },
  {
   "cell_type": "code",
   "execution_count": 5,
   "metadata": {},
   "outputs": [
    {
     "name": "stdout",
     "output_type": "stream",
     "text": [
      "is_central, mag_r_des, galaxy_id, ellipticity_1_true, ellipticity_2_true, Mag_true_Y_des_z01, shear_2, mag_i_des, magerr_Y_des, Mag_true_i_des_z01, Mag_true_g_des_z01, is_BGS, Mag_true_r_des_z01, ellipticity_1, halo_id, is_QSO, dec, shear_1, mag_lensed_W1_wise, velocity_y, magerr_r_des, magnification, mag_lensed_W2_wise, mag_lensed_W4_wise, mag_g_des, Mag_true_z_des_z01, magerr_i_des, velocity_x, ra, ra_true, velocity_z, position_z, Mag_true_W4_wise_z01, magerr_g_des, convergence, mag_true_W1_wise, halo_mass, size, dec_true, mag_true_W2_wise, mag_z_des, is_LRG, position_y, mag_true_W4_wise, mag_lensed_W3_wise, is_ELG, ellipticity_2, Mag_true_W1_wise_z01, Mag_true_W2_wise_z01, mag_true_W3_wise, redshift, position_x, redshift_true, Mag_true_W3_wise_z01, mag_Y_des, size_true, magerr_z_des\n"
     ]
    }
   ],
   "source": [
    "print(', '.join(gc.list_all_quantities()))"
   ]
  },
  {
   "cell_type": "code",
   "execution_count": 9,
   "metadata": {},
   "outputs": [
    {
     "data": {
      "text/plain": [
       "{'mag_i_des': array([22.17108 , 20.052048, 23.610605, ..., 23.847887, 22.968401,\n",
       "        23.899775], dtype=float32),\n",
       " 'dec': array([3.82566153, 3.82081084, 3.82521378, ..., 2.63239094, 2.50292078,\n",
       "        3.92154459]),\n",
       " 'ra': array([221.7452088 , 221.74582649, 221.74894922, ..., 222.41438104,\n",
       "        222.78405324, 225.93821218])}"
      ]
     },
     "execution_count": 9,
     "metadata": {},
     "output_type": "execute_result"
    }
   ],
   "source": [
    "gc.get_quantities(['mag_i_des', 'ra', 'dec'])"
   ]
  },
  {
   "cell_type": "code",
   "execution_count": 10,
   "metadata": {},
   "outputs": [
    {
     "data": {
      "text/plain": [
       "True"
      ]
     },
     "execution_count": 10,
     "metadata": {},
     "output_type": "execute_result"
    }
   ],
   "source": [
    "gc.has_quantity('mag_i_des')"
   ]
  },
  {
   "cell_type": "code",
   "execution_count": 11,
   "metadata": {},
   "outputs": [
    {
     "data": {
      "text/plain": [
       "False"
      ]
     },
     "execution_count": 11,
     "metadata": {},
     "output_type": "execute_result"
    }
   ],
   "source": [
    "gc.has_quantities(['mag_u_des', 'ra', 'dec'])"
   ]
  },
  {
   "cell_type": "code",
   "execution_count": 12,
   "metadata": {},
   "outputs": [
    {
     "data": {
      "text/plain": [
       "False"
      ]
     },
     "execution_count": 12,
     "metadata": {},
     "output_type": "execute_result"
    }
   ],
   "source": [
    "## Only returns `True` if *all* quantities exist\n",
    "gc.has_quantities(['mag_u_des', 'ra', 'dec', 'quantitiy_that_does_not_exist'])"
   ]
  },
  {
   "cell_type": "code",
   "execution_count": 32,
   "metadata": {},
   "outputs": [
    {
     "data": {
      "text/plain": [
       "array([False, False, False, ..., False, False, False])"
      ]
     },
     "execution_count": 32,
     "metadata": {},
     "output_type": "execute_result"
    }
   ],
   "source": [
    "gc['is_BGS']"
   ]
  },
  {
   "cell_type": "markdown",
   "metadata": {},
   "source": [
    "### accessing native quantities\n",
    "\n",
    "Native quantities are quantities that have not yet be homogenized (to common labels/units).\n",
    "However, you can still access them as long as you know what you are doing. "
   ]
  },
  {
   "cell_type": "code",
   "execution_count": 13,
   "metadata": {},
   "outputs": [
    {
     "name": "stdout",
     "output_type": "stream",
     "text": [
      "truth/AMAG_WISE/2\n",
      "truth/FLUX/0\n",
      "truth/IVAR/0\n",
      "truth/SIGMA5P\n",
      "truth/TMAG_WISE/2\n"
     ]
    }
   ],
   "source": [
    "## print out the first 5 native quantities\n",
    "\n",
    "print('\\n'.join(sorted(gc.list_all_native_quantities()[:5])))"
   ]
  },
  {
   "cell_type": "code",
   "execution_count": 14,
   "metadata": {},
   "outputs": [
    {
     "data": {
      "text/plain": [
       "{'truth/AMAG/3': array([-18.465008, -20.536036, -16.91503 , ..., -21.400494, -21.089745,\n",
       "        -21.239622], dtype=float32),\n",
       " 'truth/AMAG/0': array([-17.522438, -19.70175 , -16.09822 , ..., -20.893204, -21.188713,\n",
       "        -20.857277], dtype=float32)}"
      ]
     },
     "execution_count": 14,
     "metadata": {},
     "output_type": "execute_result"
    }
   ],
   "source": [
    "gc.get_quantities(['truth/AMAG/0',\n",
    "                   'truth/AMAG/3'])"
   ]
  },
  {
   "cell_type": "markdown",
   "metadata": {},
   "source": [
    "You can also rename the native quantities by using `add_quantity_modifier()`. For example:"
   ]
  },
  {
   "cell_type": "code",
   "execution_count": 15,
   "metadata": {},
   "outputs": [
    {
     "data": {
      "text/plain": [
       "{'kcorrect_coefficient_0': array([8.9925282e-11, 4.9798619e-08, 1.0353722e-08, ..., 7.9368210e-09,\n",
       "        5.1256954e-09, 5.5366587e-09], dtype=float32)}"
      ]
     },
     "execution_count": 15,
     "metadata": {},
     "output_type": "execute_result"
    }
   ],
   "source": [
    "gc.add_quantity_modifier('kcorrect_coefficient_0', 'truth/COEFFS/0')\n",
    "gc.get_quantities(['kcorrect_coefficient_0'])"
   ]
  },
  {
   "cell_type": "markdown",
   "metadata": {},
   "source": [
    "To get all native quantities that match a regex"
   ]
  },
  {
   "cell_type": "code",
   "execution_count": 16,
   "metadata": {},
   "outputs": [],
   "source": [
    "import re\n",
    "\n",
    "data = gc.get_quantities([q for q in gc.list_all_native_quantities() if re.match('truth/COEFFS/\\d+', q)]) "
   ]
  },
  {
   "cell_type": "code",
   "execution_count": 17,
   "metadata": {},
   "outputs": [
    {
     "data": {
      "text/plain": [
       "{'truth/COEFFS/2': array([1.7087199e-08, 6.9610699e-08, 4.9755289e-09, ..., 2.9169820e-09,\n",
       "        3.3344933e-09, 3.1452738e-09], dtype=float32),\n",
       " 'truth/COEFFS/4': array([4.3466626e-09, 7.7448703e-08, 1.7536517e-09, ..., 1.0927452e-09,\n",
       "        1.9595995e-14, 5.3140570e-10], dtype=float32),\n",
       " 'truth/COEFFS/0': array([8.9925282e-11, 4.9798619e-08, 1.0353722e-08, ..., 7.9368210e-09,\n",
       "        5.1256954e-09, 5.5366587e-09], dtype=float32),\n",
       " 'truth/COEFFS/3': array([1.3090353e-07, 6.9959231e-07, 5.6019429e-09, ..., 4.7609401e-09,\n",
       "        4.7467079e-14, 1.0233453e-09], dtype=float32),\n",
       " 'truth/COEFFS/1': array([3.0382059e-14, 9.5112503e-13, 4.1000224e-12, ..., 3.0571330e-11,\n",
       "        8.2205368e-11, 2.9082922e-11], dtype=float32)}"
      ]
     },
     "execution_count": 17,
     "metadata": {},
     "output_type": "execute_result"
    }
   ],
   "source": [
    "data"
   ]
  },
  {
   "cell_type": "markdown",
   "metadata": {},
   "source": [
    "### more info about the catalog\n",
    "\n",
    "- `lightcone` is a `bool`\n",
    "- `cosmology` is a instance of `astropy.cosmology.FLRW`\n",
    "- `get_input_kwargs()` returns a `dict` (when no argument) from the orignal yaml config file. \n",
    "  If a argument if passed, it returns the corresponding value for key=argument"
   ]
  },
  {
   "cell_type": "code",
   "execution_count": 18,
   "metadata": {},
   "outputs": [
    {
     "data": {
      "text/plain": [
       "True"
      ]
     },
     "execution_count": 18,
     "metadata": {},
     "output_type": "execute_result"
    }
   ],
   "source": [
    "gc.lightcone"
   ]
  },
  {
   "cell_type": "code",
   "execution_count": 19,
   "metadata": {},
   "outputs": [
    {
     "data": {
      "text/plain": [
       "FlatLambdaCDM(H0=70 km / (Mpc s), Om0=0.286, Tcmb0=0 K, Neff=3.04, m_nu=None, Ob0=None)"
      ]
     },
     "execution_count": 19,
     "metadata": {},
     "output_type": "execute_result"
    }
   ],
   "source": [
    "gc.cosmology"
   ]
  },
  {
   "cell_type": "code",
   "execution_count": 20,
   "metadata": {},
   "outputs": [
    {
     "name": "stdout",
     "output_type": "stream",
     "text": [
      "This is a smaller version of the Buzzard galaxy catalog v1.6 (realization 0),\n",
      "with only one healpixel, for testing purposes.\n",
      "\n"
     ]
    }
   ],
   "source": [
    "print(gc.get_catalog_info('description'))"
   ]
  },
  {
   "cell_type": "code",
   "execution_count": 21,
   "metadata": {},
   "outputs": [
    {
     "name": "stdout",
     "output_type": "stream",
     "text": [
      "None\n"
     ]
    }
   ],
   "source": [
    "print(gc.get_catalog_info('version'))"
   ]
  },
  {
   "cell_type": "code",
   "execution_count": 22,
   "metadata": {},
   "outputs": [
    {
     "name": "stdout",
     "output_type": "stream",
     "text": [
      "{'subclass_name': 'buzzard.BuzzardGalaxyCatalog', 'catalog_root_dir': '/project/projectdirs/desi/mocks/buzzard/buzzard_v1.6_desicut/8/', 'catalog_path_template': {'truth': '{group}/{pix}/Buzzard_v1.6_lensed-8-{pix}.fits'}, 'cosmology': {'H0': 70.0, 'Om0': 0.286}, 'healpix_pixels': [128], 'halo_mass_def': 'vir', 'lightcone': True, 'sky_area': 53.71, 'creators': ['Joe DeRose', 'Risa Wechsler', 'Eli Rykoff', 'Matt Becker'], 'description': 'This is a smaller version of the Buzzard galaxy catalog v1.6 (realization 0),\\nwith only one healpixel, for testing purposes.\\n'}\n"
     ]
    }
   ],
   "source": [
    "print(gc.get_catalog_info())"
   ]
  },
  {
   "cell_type": "markdown",
   "metadata": {},
   "source": [
    "### more tips on using the quantities\n",
    "\n",
    "#### tip 1\n",
    "`get_quantities()` returns a dictionary, which you can easily turn into a `astropy.table.Table` or `pandas.DataFrame`"
   ]
  },
  {
   "cell_type": "code",
   "execution_count": 23,
   "metadata": {},
   "outputs": [],
   "source": [
    "data = gc.get_quantities(['mag_g_des', 'ra', 'dec'])"
   ]
  },
  {
   "cell_type": "code",
   "execution_count": 24,
   "metadata": {},
   "outputs": [
    {
     "data": {
      "text/html": [
       "<div>\n",
       "<style scoped>\n",
       "    .dataframe tbody tr th:only-of-type {\n",
       "        vertical-align: middle;\n",
       "    }\n",
       "\n",
       "    .dataframe tbody tr th {\n",
       "        vertical-align: top;\n",
       "    }\n",
       "\n",
       "    .dataframe thead th {\n",
       "        text-align: right;\n",
       "    }\n",
       "</style>\n",
       "<table border=\"1\" class=\"dataframe\">\n",
       "  <thead>\n",
       "    <tr style=\"text-align: right;\">\n",
       "      <th></th>\n",
       "      <th>dec</th>\n",
       "      <th>mag_g_des</th>\n",
       "      <th>ra</th>\n",
       "    </tr>\n",
       "  </thead>\n",
       "  <tbody>\n",
       "    <tr>\n",
       "      <th>0</th>\n",
       "      <td>3.825662</td>\n",
       "      <td>23.563454</td>\n",
       "      <td>221.745209</td>\n",
       "    </tr>\n",
       "    <tr>\n",
       "      <th>1</th>\n",
       "      <td>3.820811</td>\n",
       "      <td>21.204252</td>\n",
       "      <td>221.745826</td>\n",
       "    </tr>\n",
       "    <tr>\n",
       "      <th>2</th>\n",
       "      <td>3.825214</td>\n",
       "      <td>24.834717</td>\n",
       "      <td>221.748949</td>\n",
       "    </tr>\n",
       "    <tr>\n",
       "      <th>3</th>\n",
       "      <td>3.820247</td>\n",
       "      <td>22.417755</td>\n",
       "      <td>221.747757</td>\n",
       "    </tr>\n",
       "    <tr>\n",
       "      <th>4</th>\n",
       "      <td>7.494717</td>\n",
       "      <td>24.906065</td>\n",
       "      <td>223.650718</td>\n",
       "    </tr>\n",
       "    <tr>\n",
       "      <th>5</th>\n",
       "      <td>7.493139</td>\n",
       "      <td>20.587118</td>\n",
       "      <td>223.651473</td>\n",
       "    </tr>\n",
       "    <tr>\n",
       "      <th>6</th>\n",
       "      <td>3.822255</td>\n",
       "      <td>24.060648</td>\n",
       "      <td>221.741501</td>\n",
       "    </tr>\n",
       "    <tr>\n",
       "      <th>7</th>\n",
       "      <td>3.823763</td>\n",
       "      <td>25.392254</td>\n",
       "      <td>221.740025</td>\n",
       "    </tr>\n",
       "    <tr>\n",
       "      <th>8</th>\n",
       "      <td>3.826067</td>\n",
       "      <td>24.513468</td>\n",
       "      <td>221.752858</td>\n",
       "    </tr>\n",
       "    <tr>\n",
       "      <th>9</th>\n",
       "      <td>7.491235</td>\n",
       "      <td>24.395870</td>\n",
       "      <td>223.648755</td>\n",
       "    </tr>\n",
       "    <tr>\n",
       "      <th>10</th>\n",
       "      <td>3.829454</td>\n",
       "      <td>23.527239</td>\n",
       "      <td>221.749000</td>\n",
       "    </tr>\n",
       "    <tr>\n",
       "      <th>11</th>\n",
       "      <td>3.822133</td>\n",
       "      <td>23.265421</td>\n",
       "      <td>221.741126</td>\n",
       "    </tr>\n",
       "    <tr>\n",
       "      <th>12</th>\n",
       "      <td>3.820904</td>\n",
       "      <td>24.060339</td>\n",
       "      <td>221.744132</td>\n",
       "    </tr>\n",
       "    <tr>\n",
       "      <th>13</th>\n",
       "      <td>7.493970</td>\n",
       "      <td>22.317684</td>\n",
       "      <td>223.655856</td>\n",
       "    </tr>\n",
       "    <tr>\n",
       "      <th>14</th>\n",
       "      <td>3.826309</td>\n",
       "      <td>19.607342</td>\n",
       "      <td>221.748328</td>\n",
       "    </tr>\n",
       "    <tr>\n",
       "      <th>15</th>\n",
       "      <td>7.487243</td>\n",
       "      <td>23.778557</td>\n",
       "      <td>223.650615</td>\n",
       "    </tr>\n",
       "    <tr>\n",
       "      <th>16</th>\n",
       "      <td>3.830929</td>\n",
       "      <td>23.649288</td>\n",
       "      <td>221.749168</td>\n",
       "    </tr>\n",
       "    <tr>\n",
       "      <th>17</th>\n",
       "      <td>3.828353</td>\n",
       "      <td>24.250654</td>\n",
       "      <td>221.746257</td>\n",
       "    </tr>\n",
       "    <tr>\n",
       "      <th>18</th>\n",
       "      <td>7.487300</td>\n",
       "      <td>22.354605</td>\n",
       "      <td>223.649614</td>\n",
       "    </tr>\n",
       "    <tr>\n",
       "      <th>19</th>\n",
       "      <td>7.485466</td>\n",
       "      <td>22.865849</td>\n",
       "      <td>223.647828</td>\n",
       "    </tr>\n",
       "    <tr>\n",
       "      <th>20</th>\n",
       "      <td>3.731543</td>\n",
       "      <td>20.168045</td>\n",
       "      <td>228.632002</td>\n",
       "    </tr>\n",
       "    <tr>\n",
       "      <th>21</th>\n",
       "      <td>3.832859</td>\n",
       "      <td>21.409262</td>\n",
       "      <td>221.751615</td>\n",
       "    </tr>\n",
       "    <tr>\n",
       "      <th>22</th>\n",
       "      <td>7.499391</td>\n",
       "      <td>22.112293</td>\n",
       "      <td>223.654454</td>\n",
       "    </tr>\n",
       "    <tr>\n",
       "      <th>23</th>\n",
       "      <td>7.498449</td>\n",
       "      <td>22.792788</td>\n",
       "      <td>223.654718</td>\n",
       "    </tr>\n",
       "    <tr>\n",
       "      <th>24</th>\n",
       "      <td>3.820377</td>\n",
       "      <td>25.225563</td>\n",
       "      <td>221.735504</td>\n",
       "    </tr>\n",
       "    <tr>\n",
       "      <th>25</th>\n",
       "      <td>6.605228</td>\n",
       "      <td>24.106602</td>\n",
       "      <td>221.842187</td>\n",
       "    </tr>\n",
       "    <tr>\n",
       "      <th>26</th>\n",
       "      <td>6.602839</td>\n",
       "      <td>23.993927</td>\n",
       "      <td>221.843595</td>\n",
       "    </tr>\n",
       "    <tr>\n",
       "      <th>27</th>\n",
       "      <td>3.698385</td>\n",
       "      <td>21.618954</td>\n",
       "      <td>227.800502</td>\n",
       "    </tr>\n",
       "    <tr>\n",
       "      <th>28</th>\n",
       "      <td>3.697031</td>\n",
       "      <td>23.941261</td>\n",
       "      <td>227.797771</td>\n",
       "    </tr>\n",
       "    <tr>\n",
       "      <th>29</th>\n",
       "      <td>3.694319</td>\n",
       "      <td>20.202198</td>\n",
       "      <td>227.802922</td>\n",
       "    </tr>\n",
       "    <tr>\n",
       "      <th>...</th>\n",
       "      <td>...</td>\n",
       "      <td>...</td>\n",
       "      <td>...</td>\n",
       "    </tr>\n",
       "    <tr>\n",
       "      <th>2961715</th>\n",
       "      <td>4.535958</td>\n",
       "      <td>23.343748</td>\n",
       "      <td>228.017046</td>\n",
       "    </tr>\n",
       "    <tr>\n",
       "      <th>2961716</th>\n",
       "      <td>4.873957</td>\n",
       "      <td>23.712133</td>\n",
       "      <td>221.938698</td>\n",
       "    </tr>\n",
       "    <tr>\n",
       "      <th>2961717</th>\n",
       "      <td>3.167225</td>\n",
       "      <td>23.570322</td>\n",
       "      <td>226.824686</td>\n",
       "    </tr>\n",
       "    <tr>\n",
       "      <th>2961718</th>\n",
       "      <td>3.315557</td>\n",
       "      <td>23.486010</td>\n",
       "      <td>226.157182</td>\n",
       "    </tr>\n",
       "    <tr>\n",
       "      <th>2961719</th>\n",
       "      <td>3.250899</td>\n",
       "      <td>23.757908</td>\n",
       "      <td>222.192839</td>\n",
       "    </tr>\n",
       "    <tr>\n",
       "      <th>2961720</th>\n",
       "      <td>7.111476</td>\n",
       "      <td>23.070068</td>\n",
       "      <td>225.010708</td>\n",
       "    </tr>\n",
       "    <tr>\n",
       "      <th>2961721</th>\n",
       "      <td>3.990896</td>\n",
       "      <td>23.692631</td>\n",
       "      <td>226.679437</td>\n",
       "    </tr>\n",
       "    <tr>\n",
       "      <th>2961722</th>\n",
       "      <td>7.026499</td>\n",
       "      <td>23.954742</td>\n",
       "      <td>225.035689</td>\n",
       "    </tr>\n",
       "    <tr>\n",
       "      <th>2961723</th>\n",
       "      <td>6.714077</td>\n",
       "      <td>24.054874</td>\n",
       "      <td>225.596190</td>\n",
       "    </tr>\n",
       "    <tr>\n",
       "      <th>2961724</th>\n",
       "      <td>4.421465</td>\n",
       "      <td>23.916677</td>\n",
       "      <td>223.896196</td>\n",
       "    </tr>\n",
       "    <tr>\n",
       "      <th>2961725</th>\n",
       "      <td>4.668075</td>\n",
       "      <td>24.209091</td>\n",
       "      <td>220.212306</td>\n",
       "    </tr>\n",
       "    <tr>\n",
       "      <th>2961726</th>\n",
       "      <td>6.099834</td>\n",
       "      <td>23.985428</td>\n",
       "      <td>227.662669</td>\n",
       "    </tr>\n",
       "    <tr>\n",
       "      <th>2961727</th>\n",
       "      <td>6.339905</td>\n",
       "      <td>23.949907</td>\n",
       "      <td>224.356597</td>\n",
       "    </tr>\n",
       "    <tr>\n",
       "      <th>2961728</th>\n",
       "      <td>5.428807</td>\n",
       "      <td>23.797529</td>\n",
       "      <td>229.574615</td>\n",
       "    </tr>\n",
       "    <tr>\n",
       "      <th>2961729</th>\n",
       "      <td>3.557708</td>\n",
       "      <td>23.795538</td>\n",
       "      <td>226.166796</td>\n",
       "    </tr>\n",
       "    <tr>\n",
       "      <th>2961730</th>\n",
       "      <td>4.206988</td>\n",
       "      <td>23.881966</td>\n",
       "      <td>224.626076</td>\n",
       "    </tr>\n",
       "    <tr>\n",
       "      <th>2961731</th>\n",
       "      <td>5.535878</td>\n",
       "      <td>23.913116</td>\n",
       "      <td>229.562572</td>\n",
       "    </tr>\n",
       "    <tr>\n",
       "      <th>2961732</th>\n",
       "      <td>1.489041</td>\n",
       "      <td>23.637785</td>\n",
       "      <td>224.779283</td>\n",
       "    </tr>\n",
       "    <tr>\n",
       "      <th>2961733</th>\n",
       "      <td>4.990472</td>\n",
       "      <td>23.106642</td>\n",
       "      <td>219.849539</td>\n",
       "    </tr>\n",
       "    <tr>\n",
       "      <th>2961734</th>\n",
       "      <td>1.348836</td>\n",
       "      <td>22.796431</td>\n",
       "      <td>224.096810</td>\n",
       "    </tr>\n",
       "    <tr>\n",
       "      <th>2961735</th>\n",
       "      <td>5.683121</td>\n",
       "      <td>23.958788</td>\n",
       "      <td>222.533663</td>\n",
       "    </tr>\n",
       "    <tr>\n",
       "      <th>2961736</th>\n",
       "      <td>2.396493</td>\n",
       "      <td>23.998095</td>\n",
       "      <td>224.384082</td>\n",
       "    </tr>\n",
       "    <tr>\n",
       "      <th>2961737</th>\n",
       "      <td>8.238275</td>\n",
       "      <td>24.034580</td>\n",
       "      <td>225.205660</td>\n",
       "    </tr>\n",
       "    <tr>\n",
       "      <th>2961738</th>\n",
       "      <td>8.185636</td>\n",
       "      <td>23.957241</td>\n",
       "      <td>225.207313</td>\n",
       "    </tr>\n",
       "    <tr>\n",
       "      <th>2961739</th>\n",
       "      <td>6.062796</td>\n",
       "      <td>23.464308</td>\n",
       "      <td>228.429059</td>\n",
       "    </tr>\n",
       "    <tr>\n",
       "      <th>2961740</th>\n",
       "      <td>2.171107</td>\n",
       "      <td>23.150146</td>\n",
       "      <td>222.879232</td>\n",
       "    </tr>\n",
       "    <tr>\n",
       "      <th>2961741</th>\n",
       "      <td>2.518176</td>\n",
       "      <td>23.897886</td>\n",
       "      <td>226.574562</td>\n",
       "    </tr>\n",
       "    <tr>\n",
       "      <th>2961742</th>\n",
       "      <td>2.632391</td>\n",
       "      <td>23.962618</td>\n",
       "      <td>222.414381</td>\n",
       "    </tr>\n",
       "    <tr>\n",
       "      <th>2961743</th>\n",
       "      <td>2.502921</td>\n",
       "      <td>23.024815</td>\n",
       "      <td>222.784053</td>\n",
       "    </tr>\n",
       "    <tr>\n",
       "      <th>2961744</th>\n",
       "      <td>3.921545</td>\n",
       "      <td>24.034307</td>\n",
       "      <td>225.938212</td>\n",
       "    </tr>\n",
       "  </tbody>\n",
       "</table>\n",
       "<p>2961745 rows × 3 columns</p>\n",
       "</div>"
      ],
      "text/plain": [
       "              dec  mag_g_des          ra\n",
       "0        3.825662  23.563454  221.745209\n",
       "1        3.820811  21.204252  221.745826\n",
       "2        3.825214  24.834717  221.748949\n",
       "3        3.820247  22.417755  221.747757\n",
       "4        7.494717  24.906065  223.650718\n",
       "5        7.493139  20.587118  223.651473\n",
       "6        3.822255  24.060648  221.741501\n",
       "7        3.823763  25.392254  221.740025\n",
       "8        3.826067  24.513468  221.752858\n",
       "9        7.491235  24.395870  223.648755\n",
       "10       3.829454  23.527239  221.749000\n",
       "11       3.822133  23.265421  221.741126\n",
       "12       3.820904  24.060339  221.744132\n",
       "13       7.493970  22.317684  223.655856\n",
       "14       3.826309  19.607342  221.748328\n",
       "15       7.487243  23.778557  223.650615\n",
       "16       3.830929  23.649288  221.749168\n",
       "17       3.828353  24.250654  221.746257\n",
       "18       7.487300  22.354605  223.649614\n",
       "19       7.485466  22.865849  223.647828\n",
       "20       3.731543  20.168045  228.632002\n",
       "21       3.832859  21.409262  221.751615\n",
       "22       7.499391  22.112293  223.654454\n",
       "23       7.498449  22.792788  223.654718\n",
       "24       3.820377  25.225563  221.735504\n",
       "25       6.605228  24.106602  221.842187\n",
       "26       6.602839  23.993927  221.843595\n",
       "27       3.698385  21.618954  227.800502\n",
       "28       3.697031  23.941261  227.797771\n",
       "29       3.694319  20.202198  227.802922\n",
       "...           ...        ...         ...\n",
       "2961715  4.535958  23.343748  228.017046\n",
       "2961716  4.873957  23.712133  221.938698\n",
       "2961717  3.167225  23.570322  226.824686\n",
       "2961718  3.315557  23.486010  226.157182\n",
       "2961719  3.250899  23.757908  222.192839\n",
       "2961720  7.111476  23.070068  225.010708\n",
       "2961721  3.990896  23.692631  226.679437\n",
       "2961722  7.026499  23.954742  225.035689\n",
       "2961723  6.714077  24.054874  225.596190\n",
       "2961724  4.421465  23.916677  223.896196\n",
       "2961725  4.668075  24.209091  220.212306\n",
       "2961726  6.099834  23.985428  227.662669\n",
       "2961727  6.339905  23.949907  224.356597\n",
       "2961728  5.428807  23.797529  229.574615\n",
       "2961729  3.557708  23.795538  226.166796\n",
       "2961730  4.206988  23.881966  224.626076\n",
       "2961731  5.535878  23.913116  229.562572\n",
       "2961732  1.489041  23.637785  224.779283\n",
       "2961733  4.990472  23.106642  219.849539\n",
       "2961734  1.348836  22.796431  224.096810\n",
       "2961735  5.683121  23.958788  222.533663\n",
       "2961736  2.396493  23.998095  224.384082\n",
       "2961737  8.238275  24.034580  225.205660\n",
       "2961738  8.185636  23.957241  225.207313\n",
       "2961739  6.062796  23.464308  228.429059\n",
       "2961740  2.171107  23.150146  222.879232\n",
       "2961741  2.518176  23.897886  226.574562\n",
       "2961742  2.632391  23.962618  222.414381\n",
       "2961743  2.502921  23.024815  222.784053\n",
       "2961744  3.921545  24.034307  225.938212\n",
       "\n",
       "[2961745 rows x 3 columns]"
      ]
     },
     "execution_count": 24,
     "metadata": {},
     "output_type": "execute_result"
    }
   ],
   "source": [
    "import pandas as pd\n",
    "pd.DataFrame(data)"
   ]
  },
  {
   "cell_type": "code",
   "execution_count": 25,
   "metadata": {
    "scrolled": true
   },
   "outputs": [
    {
     "data": {
      "text/html": [
       "<i>Table length=2961745</i>\n",
       "<table id=\"table47409295325504\" class=\"table-striped table-bordered table-condensed\">\n",
       "<thead><tr><th>dec</th><th>mag_g_des</th><th>ra</th></tr></thead>\n",
       "<thead><tr><th>float64</th><th>float32</th><th>float64</th></tr></thead>\n",
       "<tr><td>3.8256615344934346</td><td>23.563454</td><td>221.7452087978323</td></tr>\n",
       "<tr><td>3.820810840863899</td><td>21.204252</td><td>221.74582648919522</td></tr>\n",
       "<tr><td>3.8252137807965596</td><td>24.834717</td><td>221.74894921552067</td></tr>\n",
       "<tr><td>3.820247270462815</td><td>22.417755</td><td>221.7477565849563</td></tr>\n",
       "<tr><td>7.494717366443041</td><td>24.906065</td><td>223.65071755221217</td></tr>\n",
       "<tr><td>7.4931394784929495</td><td>20.587118</td><td>223.65147320174074</td></tr>\n",
       "<tr><td>3.8222553340855114</td><td>24.060648</td><td>221.74150126760964</td></tr>\n",
       "<tr><td>3.8237627519934563</td><td>25.392254</td><td>221.7400245737922</td></tr>\n",
       "<tr><td>3.82606715024572</td><td>24.513468</td><td>221.75285791025044</td></tr>\n",
       "<tr><td>7.491235112487743</td><td>24.39587</td><td>223.64875502322687</td></tr>\n",
       "<tr><td>...</td><td>...</td><td>...</td></tr>\n",
       "<tr><td>5.683121094240079</td><td>23.958788</td><td>222.5336628769231</td></tr>\n",
       "<tr><td>2.3964926312248025</td><td>23.998095</td><td>224.3840819011942</td></tr>\n",
       "<tr><td>8.238274745103368</td><td>24.03458</td><td>225.20566017401848</td></tr>\n",
       "<tr><td>8.185635649404318</td><td>23.957241</td><td>225.20731336470297</td></tr>\n",
       "<tr><td>6.062796224642852</td><td>23.464308</td><td>228.4290589935639</td></tr>\n",
       "<tr><td>2.171106603710598</td><td>23.150146</td><td>222.87923217286277</td></tr>\n",
       "<tr><td>2.518175791384195</td><td>23.897886</td><td>226.57456241635657</td></tr>\n",
       "<tr><td>2.632390944206321</td><td>23.962618</td><td>222.4143810385377</td></tr>\n",
       "<tr><td>2.502920776958206</td><td>23.024815</td><td>222.78405324209243</td></tr>\n",
       "<tr><td>3.921544589979149</td><td>24.034307</td><td>225.93821218132373</td></tr>\n",
       "</table>"
      ],
      "text/plain": [
       "<Table length=2961745>\n",
       "       dec         mag_g_des         ra        \n",
       "     float64        float32       float64      \n",
       "------------------ --------- ------------------\n",
       "3.8256615344934346 23.563454  221.7452087978323\n",
       " 3.820810840863899 21.204252 221.74582648919522\n",
       "3.8252137807965596 24.834717 221.74894921552067\n",
       " 3.820247270462815 22.417755  221.7477565849563\n",
       " 7.494717366443041 24.906065 223.65071755221217\n",
       "7.4931394784929495 20.587118 223.65147320174074\n",
       "3.8222553340855114 24.060648 221.74150126760964\n",
       "3.8237627519934563 25.392254  221.7400245737922\n",
       "  3.82606715024572 24.513468 221.75285791025044\n",
       " 7.491235112487743  24.39587 223.64875502322687\n",
       "               ...       ...                ...\n",
       " 5.683121094240079 23.958788  222.5336628769231\n",
       "2.3964926312248025 23.998095  224.3840819011942\n",
       " 8.238274745103368  24.03458 225.20566017401848\n",
       " 8.185635649404318 23.957241 225.20731336470297\n",
       " 6.062796224642852 23.464308  228.4290589935639\n",
       " 2.171106603710598 23.150146 222.87923217286277\n",
       " 2.518175791384195 23.897886 226.57456241635657\n",
       " 2.632390944206321 23.962618  222.4143810385377\n",
       " 2.502920776958206 23.024815 222.78405324209243\n",
       " 3.921544589979149 24.034307 225.93821218132373"
      ]
     },
     "execution_count": 25,
     "metadata": {},
     "output_type": "execute_result"
    }
   ],
   "source": [
    "from astropy.table import Table\n",
    "Table(data)"
   ]
  },
  {
   "cell_type": "markdown",
   "metadata": {},
   "source": [
    "#### tip 2\n",
    "\n",
    "Sometimes you can allow slightly different quantiies (for example, lsst u band and sdss u band) when comparing different catalogs. In this case, you can use `first_available()` to get the first available of the given catalog."
   ]
  },
  {
   "cell_type": "code",
   "execution_count": 26,
   "metadata": {},
   "outputs": [
    {
     "data": {
      "text/plain": [
       "'mag_g_des'"
      ]
     },
     "execution_count": 26,
     "metadata": {},
     "output_type": "execute_result"
    }
   ],
   "source": [
    "gc.first_available('mag_g_des', 'mag_u_sdss', 'mag_u_lsst')"
   ]
  },
  {
   "cell_type": "markdown",
   "metadata": {},
   "source": [
    "### Here's a full example"
   ]
  },
  {
   "cell_type": "code",
   "execution_count": 27,
   "metadata": {},
   "outputs": [],
   "source": [
    "import numpy as np\n",
    "from astropy.table import Table\n",
    "import matplotlib.pyplot as plt\n",
    "%matplotlib inline"
   ]
  },
  {
   "cell_type": "code",
   "execution_count": 28,
   "metadata": {},
   "outputs": [],
   "source": [
    "catalogs = ('buzzard_test',)\n",
    "gc_all = dict(zip(catalogs, (GCRCatalogs.load_catalog(c) for c in catalogs)))"
   ]
  },
  {
   "cell_type": "code",
   "execution_count": 31,
   "metadata": {},
   "outputs": [
    {
     "data": {
      "image/png": "[encoded data removed]",
      "text/plain": [
       "<Figure size 1200x500 with 2 Axes>"
      ]
     },
     "metadata": {},
     "output_type": "display_data"
    }
   ],
   "source": [
    "fig, ax = plt.subplots(ncols=2, figsize=(12,5), dpi=100)\n",
    "\n",
    "for label, gc_this in gc_all.items():\n",
    "    mag_g = gc_this.first_available('mag_g_des', 'mag_g_sdss')\n",
    "    mag_r = gc_this.first_available('mag_r_des', 'mag_r_sdss')\n",
    "    redshift = gc_this.first_available('redshift_true', 'redshift')\n",
    "    quantities_needed = [mag_g, mag_r, redshift]\n",
    "    \n",
    "    data = Table(gc_this.get_quantities(quantities_needed, [redshift + '> 0.1', redshift + '< 0.3']))\n",
    "    \n",
    "    data = data[np.isfinite(data[mag_g]) & np.isfinite(data[mag_r])]\n",
    "    data = data[data[mag_r] < 22.0]\n",
    "    \n",
    "    ax[0].hist(data[redshift], 20, density=True, alpha=0.6, label=label);\n",
    "    ax[1].hist(data[mag_g] - data[mag_r], 20, density=True, alpha=0.6);\n",
    "\n",
    "ax[0].legend(frameon=False);\n",
    "ax[0].set_xlabel('$z$');\n",
    "ax[1].set_xlabel('$g-r$');"
   ]
  },
  {
   "cell_type": "code",
   "execution_count": null,
   "metadata": {
    "collapsed": true
   },
   "outputs": [],
   "source": []
  }
 ],
 "metadata": {
  "kernelspec": {
   "display_name": "py36-myenv",
   "language": "python",
   "name": "py36-myenv"
  },
  "language_info": {
   "codemirror_mode": {
    "name": "ipython",
    "version": 3
   },
   "file_extension": ".py",
   "mimetype": "text/x-python",
   "name": "python",
   "nbconvert_exporter": "python",
   "pygments_lexer": "ipython3",
   "version": "3.6.5"
  }
 },
 "nbformat": 4,
 "nbformat_minor": 2
}
